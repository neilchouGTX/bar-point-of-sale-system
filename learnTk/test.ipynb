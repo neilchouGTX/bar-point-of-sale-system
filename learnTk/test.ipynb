{
 "cells": [
  {
   "cell_type": "code",
   "execution_count": 4,
   "metadata": {},
   "outputs": [
    {
     "name": "stdout",
     "output_type": "stream",
     "text": [
      "Clicked on Age: 28\n"
     ]
    }
   ],
   "source": [
    "import tkinter as tk\n",
    "from tkinter import ttk\n",
    "\n",
    "def on_treeview_click(event):\n",
    "    \"\"\"當使用者點擊特定欄位（如 Age）時觸發\"\"\"\n",
    "    selected_item = tree.identify_row(event.y)  # 獲取被點擊的行 ID\n",
    "    selected_column = tree.identify_column(event.x)  # 獲取被點擊的列 ID（格式為 #1, #2, #3 ...）\n",
    "\n",
    "    if selected_item and selected_column == \"#3\":  # 只在點擊 \"Age\" 欄位時觸發\n",
    "        item_values = tree.item(selected_item, \"values\")  # 獲取該行的所有值\n",
    "        age_value = item_values[2]  # 取出 Age 欄位的值\n",
    "        print(f\"Clicked on Age: {age_value}\")  # 顯示年齡\n",
    "\n",
    "# 創建主視窗\n",
    "root = tk.Tk()\n",
    "root.title(\"Treeview Clickable Rows\")\n",
    "\n",
    "# 創建 Treeview\n",
    "tree = ttk.Treeview(root, columns=(\"ID\", \"Name\", \"Age\"), show=\"headings\")\n",
    "\n",
    "# 設置欄位標題\n",
    "tree.heading(\"ID\", text=\"ID\")\n",
    "tree.heading(\"Name\", text=\"Name\")\n",
    "tree.heading(\"Age\", text=\"Age\")\n",
    "\n",
    "# 插入資料\n",
    "tree.insert(\"\", \"end\", values=(1, \"Alice\", 25))\n",
    "tree.insert(\"\", \"end\", values=(2, \"Bob\", 30))\n",
    "tree.insert(\"\", \"end\", values=(3, \"Charlie\", 28))\n",
    "\n",
    "# 綁定點擊事件\n",
    "tree.bind(\"<Button-1>\", on_treeview_click)\n",
    "\n",
    "# 顯示 Treeview\n",
    "tree.pack(pady=10)\n",
    "\n",
    "# 運行主迴圈\n",
    "root.mainloop()"
   ]
  }
 ],
 "metadata": {
  "kernelspec": {
   "display_name": "Python 3",
   "language": "python",
   "name": "python3"
  },
  "language_info": {
   "codemirror_mode": {
    "name": "ipython",
    "version": 3
   },
   "file_extension": ".py",
   "mimetype": "text/x-python",
   "name": "python",
   "nbconvert_exporter": "python",
   "pygments_lexer": "ipython3",
   "version": "3.12.5"
  }
 },
 "nbformat": 4,
 "nbformat_minor": 2
}
